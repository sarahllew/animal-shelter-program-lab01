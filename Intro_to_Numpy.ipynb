{
  "nbformat": 4,
  "nbformat_minor": 0,
  "metadata": {
    "colab": {
      "provenance": [],
      "include_colab_link": true
    },
    "kernelspec": {
      "name": "python3",
      "display_name": "Python 3"
    },
    "language_info": {
      "name": "python"
    }
  },
  "cells": [
    {
      "cell_type": "markdown",
      "metadata": {
        "id": "view-in-github",
        "colab_type": "text"
      },
      "source": [
        "<a href=\"https://colab.research.google.com/github/sarahllew/animal-shelter-program-lab01/blob/main/Intro_to_Numpy.ipynb\" target=\"_parent\"><img src=\"https://colab.research.google.com/assets/colab-badge.svg\" alt=\"Open In Colab\"/></a>"
      ]
    },
    {
      "cell_type": "markdown",
      "source": [
        "# Introduction\n",
        "\n",
        "Welcome to **Intro to Numpy**! I will assume you already know some basic Python. Some linear algebra knowledge would be nice, however it is not required.\n",
        "\n",
        "My intention with this document is for you to have it open on your computer during the whole workshop, and to fill it in with me as I go along.\n",
        "\n",
        "You can access this document via http://tinyurl.com/dsucsb-numpy. Anonymous questions can be found at http://tinyurl.com/dsucsb-numpy-qa.\n",
        "\n",
        "**Press 'File' and 'Save a copy in Drive' to get started.** You cannot edit this document otherwise."
      ],
      "metadata": {
        "id": "Ee9um7l6jUhY"
      }
    },
    {
      "cell_type": "markdown",
      "source": [
        "# Prerequisite Linear Algebra"
      ],
      "metadata": {
        "id": "Y_8IqrFYkOh4"
      }
    },
    {
      "cell_type": "markdown",
      "source": [
        "You don't need to know any linear algebra to understand Numpy. However, I believe some understanding helps bridge the knowledge gap and allows for a better understanding of Numpy. I also designed this workshop assuming some linear algebra knowledge.\n",
        "\n",
        "Here's the terms you need to know before we get started\n",
        "\n",
        "1. `scalar`:\n",
        "   For the purposes of our workshop, a scalar is just a real number.\n",
        "\n",
        "   E.g. $0, 1, -10, 50, \\pi, e$\n",
        "\n",
        "2. `vector`:\n",
        "   A vector is a collection of numbers treated as one object. Visually, you can think of a vector as an array or coordinate.\n",
        "   \n",
        "   Normally, **dimension** refers to the size of the vector. However, dimension means something totally different in Numpy, so we'll just use **size** instead.\n",
        "\n",
        "   E.g.\n",
        "   $\n",
        "   \\begin{bmatrix}\n",
        "           -1 \\\\\n",
        "           1\n",
        "   \\end{bmatrix},\n",
        "   \\begin{bmatrix}\n",
        "           1 \\\\\n",
        "           2 \\\\\n",
        "           3\n",
        "   \\end{bmatrix},\n",
        "   \\begin{bmatrix}\n",
        "           1 \\\\\n",
        "           10 \\\\\n",
        "           100 \\\\\n",
        "           1000\n",
        "   \\end{bmatrix}\n",
        "   $\n",
        "   \n",
        "3. `matrix`: A matrix is an arrangement of numbers into rows and columns. **Where a vector has 1 axis (dimension), a matrix has 2**.\n",
        "\n",
        "   The best way to understand a matrix is something that represents a **linear transformation**, a special kind of math function. If you don't know what that means, then don't worry; just look at a matrix as an array of numbers spanning two dimensions.\n",
        "\n",
        "   E.g.\n",
        "   $\n",
        "   \\begin{bmatrix}\n",
        "           1 & 0 \\\\\n",
        "           0 & 1\n",
        "   \\end{bmatrix},\n",
        "   \\begin{bmatrix}\n",
        "           1 & 2 & 3 \\\\\n",
        "           4 & 5 & 6\n",
        "   \\end{bmatrix},\n",
        "   \\begin{bmatrix}\n",
        "           1 & 1 \\\\\n",
        "           10 & 10 \\\\\n",
        "           100 & 100\n",
        "   \\end{bmatrix}\n",
        "   $\n",
        "\n",
        "4. `tensor`: A tensor is the generalization of each of these objects. A scalar is a 0-dimensional tensor; a vector is a 1-dimensional tensor; a matrix is a 2-dimensional tensor (the number of dimensions of a tensor is called the **rank** of the tensor). In Data Science jargon though, tensor usually refers to an array with 3 or more dimensions.\n",
        "\n",
        "   Like matrices, the best way to understand a tensor is as a **multi-linear map**. This is way beyond the scope of this workshop, so just picture it as an array with any number of dimensions."
      ],
      "metadata": {
        "id": "doJTB1VOkUDo"
      }
    },
    {
      "cell_type": "markdown",
      "source": [
        "# What is Numpy?"
      ],
      "metadata": {
        "id": "sNvu463BWVww"
      }
    },
    {
      "cell_type": "markdown",
      "source": [
        "NumPy (Numerical Python) is a Python library crucial for scientific engineering, especially Data Science. It provides extremely efficient mathematical data types (particularly its ndarrays) and efficient operations to perform on them.\n",
        "\n",
        "Numpy also comes with submodules containing very useful mathematical tools, including but not limited to: Fourier Transforms, Singular Value Decomposition, and random number generators (with more customization than Python's standard module).\n",
        "\n",
        "To get started, we'll need to install numpy. We can install it with pip like any Python package."
      ],
      "metadata": {
        "id": "Qv73Pseotx43"
      }
    },
    {
      "cell_type": "code",
      "source": [
        "!pip install numpy\n",
        "import numpy as np"
      ],
      "metadata": {
        "id": "oHGUOnbY2fen"
      },
      "execution_count": null,
      "outputs": []
    },
    {
      "cell_type": "markdown",
      "source": [
        "# ndarray"
      ],
      "metadata": {
        "id": "NqQ0Zmy-25U0"
      }
    },
    {
      "cell_type": "markdown",
      "source": [
        "An **ndarray** (n-dimensional array) is the backbone of numpy. It is essentially a more efficient array that can span multiple dimensions."
      ],
      "metadata": {
        "id": "9PLVGU8M33km"
      }
    },
    {
      "cell_type": "code",
      "source": [
        "# a vector, aka 1-dimensional array\n",
        "\n",
        "\n",
        "# a matrix, aka 2-dimensional array\n",
        "\n",
        "\n",
        "# 3-dimensional array (a tensor)\n",
        "\n"
      ],
      "metadata": {
        "id": "KE4bPPxQ6lbS"
      },
      "execution_count": null,
      "outputs": []
    },
    {
      "cell_type": "markdown",
      "source": [
        "Now to list and explain some relevant terminology\n",
        "```\n",
        "1. rank\n",
        "   The number of dimensions for an array. (Not to be confused with the rank of a matrix, totally different.)\n",
        "\n",
        "2. axis\n",
        "   A particular dimension of an array. A matrix has two axes.\n",
        "\n",
        "3. shape\n",
        "   The size of the array along each axis.\n",
        "```\n",
        "One important thing to note about an axis: **newer axes are prepended, not appended.**. The $0$ axis gives you the \"outer-most shell\", while the $n-1$ axis gives you the axis before the scalars. The easiest way to think of this is **the more index information you give, the more precise your information will be.** Giving one index (the 0-axis index) will give you marginally more precise information than simply having the whole array, while giving every index will give you a specific value (the most precise you can be).\n",
        "\n",
        "Don't treat axes like rows and columns on a matrix, because this very quickly makes no sense past 3 dimensions. I recommend starting with the intuitive \"layers of precision\" (this isn't fully accurate, but it paints a fair picture). However, I think they're best viewed as a sort of \"avenue of information\"."
      ],
      "metadata": {
        "id": "zNG1DVp9EWE8"
      }
    },
    {
      "cell_type": "markdown",
      "source": [
        "## Creation Operations"
      ],
      "metadata": {
        "id": "ulLu69awEAvN"
      }
    },
    {
      "cell_type": "markdown",
      "source": [
        "Numpy provides many useful operations for creating common arrays.\n"
      ],
      "metadata": {
        "id": "FvLk7x-oEC6a"
      }
    },
    {
      "cell_type": "code",
      "source": [
        "# ones\n",
        "# every entry is 1. you specify the shape as a tuple, or as a single number for vectors.\n"
      ],
      "metadata": {
        "id": "z77EAatCgicD"
      },
      "execution_count": null,
      "outputs": []
    },
    {
      "cell_type": "code",
      "source": [
        "# arange\n",
        "# create a vector with entries 0, 1, ..., n-1\n"
      ],
      "metadata": {
        "id": "B41EFfbFgkHT"
      },
      "execution_count": null,
      "outputs": []
    },
    {
      "cell_type": "code",
      "source": [
        "# linspace\n",
        "# creates `num` evenly spaced numbers between start, stop (inclusive)\n"
      ],
      "metadata": {
        "id": "Zec0QQxqEMmR"
      },
      "execution_count": null,
      "outputs": []
    },
    {
      "cell_type": "code",
      "source": [
        "# empty\n",
        "# creates an array of the given shape with uninitialized inputs\n"
      ],
      "metadata": {
        "id": "cZb2h6Rcgo9d"
      },
      "execution_count": null,
      "outputs": []
    },
    {
      "cell_type": "markdown",
      "source": [
        "## Manipulations"
      ],
      "metadata": {
        "id": "SpiVhp_ag681"
      }
    },
    {
      "cell_type": "markdown",
      "source": [
        "And here's some useful manipulations"
      ],
      "metadata": {
        "id": "6DS7bCWCaSV_"
      }
    },
    {
      "cell_type": "code",
      "source": [
        "# the sample arrays\n",
        "vector = np.arange(21) # [0, 1, ..., 20]\n",
        "matrix = np.array([\n",
        "    [1, 2, 3],\n",
        "    [2, 3, 1],\n",
        "    [3, 1, 2]\n",
        "])"
      ],
      "metadata": {
        "id": "GFAxeOi7zu9X"
      },
      "execution_count": null,
      "outputs": []
    },
    {
      "cell_type": "code",
      "source": [
        "# indexing\n"
      ],
      "metadata": {
        "id": "E8fFB953z0fF"
      },
      "execution_count": null,
      "outputs": []
    },
    {
      "cell_type": "code",
      "source": [
        "# slicing\n",
        "# same format as list slicing, start:stop:step\n"
      ],
      "metadata": {
        "id": "7BdPfOKC0PCl"
      },
      "execution_count": null,
      "outputs": []
    },
    {
      "cell_type": "code",
      "source": [
        "# reshape\n",
        "# change the shape of a matrix\n"
      ],
      "metadata": {
        "id": "xN7eXoeQ1W3y"
      },
      "execution_count": null,
      "outputs": []
    },
    {
      "cell_type": "code",
      "source": [
        "# combining\n",
        "# for 1 and 2-dimensional arrays (even 3), use hstack and vstack\n",
        "# in general, use stack or concatenate (see its docs)\n"
      ],
      "metadata": {
        "id": "GGcYfRkd302M"
      },
      "execution_count": null,
      "outputs": []
    },
    {
      "cell_type": "code",
      "source": [
        "# expanding\n",
        "# you can also use reshape to change dimensions\n"
      ],
      "metadata": {
        "id": "-D-2EciqaVeM"
      },
      "execution_count": null,
      "outputs": []
    },
    {
      "cell_type": "code",
      "source": [
        "# boolean conditions\n",
        "# any number comparisons can be used on numpy arrays, where it will do element-wise comparisons\n",
        "# returns an array of booleans\n",
        "\n",
        "\n",
        "# you can use this to \"filter\" arrays, and reassign values\n"
      ],
      "metadata": {
        "id": "Gb04lkuK6-_H"
      },
      "execution_count": null,
      "outputs": []
    },
    {
      "cell_type": "code",
      "source": [
        "# statistical operations\n",
        "# you can specify axis for each of these, which is the axis that gets summed over (and collapsed)\n"
      ],
      "metadata": {
        "id": "1mbgJDtXlpIx"
      },
      "execution_count": null,
      "outputs": []
    },
    {
      "cell_type": "markdown",
      "source": [
        "## Linear Algebra Operations"
      ],
      "metadata": {
        "id": "kqZhVhBRg9bn"
      }
    },
    {
      "cell_type": "markdown",
      "source": [
        "And finally, some common linear algebra operations (see `numpy.linalg` for more sophisticated linear algebra operations, e.g. SVD)"
      ],
      "metadata": {
        "id": "oMPfRv3qWR5v"
      }
    },
    {
      "cell_type": "code",
      "source": [
        "# sample arrays\n",
        "mat1 = matrix\n",
        "mat2 = np.arange(9).reshape(3,3)\n",
        "vec1 = np.array([1, 2, 3])\n",
        "vec2 = np.array([4, 5, 6])"
      ],
      "metadata": {
        "id": "RC1To-MF8kDr"
      },
      "execution_count": null,
      "outputs": []
    },
    {
      "cell_type": "code",
      "source": [
        "# matrix/vector addition\n"
      ],
      "metadata": {
        "id": "rLry5XK08png"
      },
      "execution_count": null,
      "outputs": []
    },
    {
      "cell_type": "code",
      "source": [
        "# scalar multiplication\n"
      ],
      "metadata": {
        "id": "o9yh1zbV8tpq"
      },
      "execution_count": null,
      "outputs": []
    },
    {
      "cell_type": "code",
      "source": [
        "# transpose\n",
        "# swap rows and columns\n"
      ],
      "metadata": {
        "id": "AwyrE27g8wjN"
      },
      "execution_count": null,
      "outputs": []
    },
    {
      "cell_type": "code",
      "source": [
        "# dot product\n"
      ],
      "metadata": {
        "id": "7VUBqK1B8zth"
      },
      "execution_count": null,
      "outputs": []
    },
    {
      "cell_type": "code",
      "source": [
        "# matrix multiplication\n"
      ],
      "metadata": {
        "id": "ptDlJtnyWWXU"
      },
      "execution_count": null,
      "outputs": []
    },
    {
      "cell_type": "markdown",
      "source": [
        "## Efficiency"
      ],
      "metadata": {
        "id": "YokwqaK8A6y0"
      }
    },
    {
      "cell_type": "markdown",
      "source": [
        "I've been lauding over ndarrays and their efficiency, without actually demonstrating it. So consider the following example"
      ],
      "metadata": {
        "id": "96MWVjuC-zTY"
      }
    },
    {
      "cell_type": "code",
      "source": [
        "from timeit import timeit # to measure the speed\n",
        "\n",
        "size = 1000000\n",
        "trials = 10000\n",
        "\n",
        "def python_list():\n",
        "  [1] * size # a list of ones\n",
        "\n",
        "def numpy_list():\n",
        "  np.ones(size)\n",
        "\n",
        "print('List time (in seconds):', timeit(python_list, number=trials))\n",
        "print('Numpy time (in seconds):', timeit(numpy_list, number=trials))\n"
      ],
      "metadata": {
        "id": "VzS3nhdOABZk",
        "colab": {
          "base_uri": "https://localhost:8080/"
        },
        "outputId": "ac2cc941-df38-45f9-ed94-745c68803c2b"
      },
      "execution_count": null,
      "outputs": [
        {
          "output_type": "stream",
          "name": "stdout",
          "text": [
            "List time (in seconds): 30.68829894299961\n",
            "Numpy time (in seconds): 4.521024589999797\n"
          ]
        }
      ]
    },
    {
      "cell_type": "markdown",
      "source": [
        "As you can see, the initialization for the numpy array is much quicker than the list. Similar results hold for most Numpy operations.\n",
        "\n",
        "Why is Numpy so fast? Two reasons\n",
        "\n",
        "1. **Locality of Reference**: Numpy densely packs its arrays into contiguous memory locations (i.e. all together, not broken a part). As a result, it benefits from locality of reference, the tendency for computers to access the same set of memory locations over a short time period.\n",
        "\n",
        "2. **Vectorization**: Numpy employs heavy use of vectorization, which is essentially designing code around vector operations instead of scalar operations. As a result, Numpy takes advantage of quicker CPU vector operations instead of explicit for loops.\n",
        "\n",
        "There's probably more reasons, and there's definitely a lot more depth to it. But these communicate the basic idea.\n",
        "\n",
        "Vectorization is also incredibly important to take on its own; applying it in your own algorithms makes things faster, easier to read, and more closely resemble mathematical notation, which you'll be working a lot with :)"
      ],
      "metadata": {
        "id": "z_u11BFanpNl"
      }
    },
    {
      "cell_type": "markdown",
      "source": [
        "# Broadcasting"
      ],
      "metadata": {
        "id": "BbrAvIPmGuq8"
      }
    },
    {
      "cell_type": "markdown",
      "source": [
        "Whenever you perform an arithmetic operation between two arrays, Numpy expects them to be the same shape, and will simply perform the operation element-wise"
      ],
      "metadata": {
        "id": "eIqlhACGUUNI"
      }
    },
    {
      "cell_type": "code",
      "source": [
        "vec1 = np.array([1, 2, 3])\n",
        "vec2 = np.array([2, 4, 8])\n",
        "\n",
        "print(vec1 * vec2)"
      ],
      "metadata": {
        "colab": {
          "base_uri": "https://localhost:8080/"
        },
        "id": "s9mEDmJoU0uP",
        "outputId": "83ea461f-8c1f-45ca-a710-b6a77c3d4281"
      },
      "execution_count": null,
      "outputs": [
        {
          "output_type": "stream",
          "name": "stdout",
          "text": [
            "[ 2  8 24]\n"
          ]
        }
      ]
    },
    {
      "cell_type": "markdown",
      "source": [
        "Yet `*` can still function as scalar multiplication as I showed earlier, even though the shapes are different (Recall: Scalars are 0-dimensional arrays/0-rank tensors)"
      ],
      "metadata": {
        "id": "0FdgPYydV1n_"
      }
    },
    {
      "cell_type": "code",
      "source": [
        "print(2 * np.arange(1, 4)) # 2 * [1, 2, 3]"
      ],
      "metadata": {
        "colab": {
          "base_uri": "https://localhost:8080/"
        },
        "id": "M5hXX86Ob3vJ",
        "outputId": "9cddb04d-2e08-4f94-9dfc-e9496ce630c6"
      },
      "execution_count": null,
      "outputs": [
        {
          "output_type": "stream",
          "name": "stdout",
          "text": [
            "[2 4 6]\n"
          ]
        }
      ]
    },
    {
      "cell_type": "markdown",
      "source": [
        "So how does this make sense? How do arithmetic operations between differently shaped arrays still work?\n",
        "\n",
        "**Broadcasting** refers to how Numpy will treat arrays of different shapes during operations. In the above example, the 0-dimensional scalar and 1-dimensional vector don't have the same shape, so Numpy **broadcasts** the scalar to match the shape of the array."
      ],
      "metadata": {
        "id": "KtejebV1b_CZ"
      }
    },
    {
      "cell_type": "markdown",
      "source": [
        "![broadcasting_1.png](data:image/png;base64,iVBORw0KGgoAAAANSUhEUgAAAggAAADACAYAAABh2JuTAAAAAXNSR0IArs4c6QAAAARnQU1BAACxjwv8YQUAAAAJcEhZcwAADsIAAA7CARUoSoAAADQvSURBVHhe7d0HeBTl2gbgSQIhVGlSFWnSO0hTqgrYFRXkgOVwBEXKr4DYD0WwYUFED+qxoFIsFD1IL6GHEBJaKklI770nm/K/z+wshLiRJGRnNslzX7zX7ny7SZbd2Zn3q6MQEREREREREREREREREREREREREREREREREREREREREREREREREREREREREREREREREREREREREREREREREREREREREREREREREREREVU9tbTb8nDQbomIiHThqN2ScUqe/J0krCUETBKIiIiqKRfttrjiJ37cR9JWW926WkVaHoiIiCqELQj6Mmm3xRVpt2C5j1tn810VPqe2EmxFICIiXTBB0A9aAArNd/+W5Tl1tVuLZIniyQQREV2fksdZIkMgGStrC0BTiTrmu5dhbIK1rgciIqoYHFepFGxBKL+SYwbKCi0DZWkBwO9sJpGnbl1RINHSfJeIiCoBjqtE5WY5+ZeWBJQnOcBzy/J8JGxo8rpB3boafp7NYURERDUITv6W7oMbtduS6kmUJykhIiIig9jihF1anxhbD4iIiIiIiIiIiIiIiIiIiIiIiIiIiIiIiIiIKqqJBFc0tENcSZGIiIzUSqK++W6lwRR0nt+IiIiIiIiIiIiIiIiIiIiIiIjsHC8QRkRkY5jGw1G1VJMwuSCqwnjC0k8fiTHmu2XWWqKyp/8QlUcjifKe6HFcwc8UqVtERERU7bSVqGO+WyZIDNhyQERERERERERERERERERERERERERERERERERERERERERERERERES2wxXPiIiovJpLcBl4+5ItEWe+WzmYIBARUXl8JjFVoqG6VT6Vec7BNT9wvQ+jr/mB11FovmsovLfDJU6qW5WACQIREZXVYxKbxo0bFzB27Nj6Tk5Ofzk5Ozo61pZyZ9xv3LhxgWyr5cVJWR08D4/Jc6ye4OWxug4ODk61a9dWGjRooJUqSnx8fNHChQsv+fv7t5k/f37spEmTbtEe0tXp06dzly9fnpSRkVHr/fffdxowYEBT7SFdrVu3LlnCMS0trZ5sInH7VX2AiIhIJx0k8oYPH34+OTm5yAj5+flFDz30kI+8jvwpU6b4FhYWao/oKzExsXDQoEF+tWrVyn7rrbeCtWLdnTx5MqNdu3Zh9erVQ9dCmsTjEpXGbloQHrj/fj/3U6faaZuGkPdbmT1rVtEjjzwSpRWVqqCwsJY83+r7J5lvgWS+yJxxWyS3+SiXnTvfQe47OTiYUC5pc5Gjk5P6GEjWbZLnmqKjohplZmTc0qxZs3TZroXH8Hz1SZUAr127exX1tcrrxn352im5OTl1TPn5SaNGjx6oPoGuZb9EeS/pbQvYL41udgV7eB14DckShtTuqhEcM6I6duyY9vvvv7ft1auXi7lYXwsXLgxZtWpV28GDBwfu2rWre6NGuBq5vgoKCpSJEyf6//HHH50fe+wx/59//rmHHKe1R/WDlpT77rvPx9PTs/OAAQNSTp06hRaEf0lUWguCXSQIUyZP3rt3//6Rh44edW7RooVWqq+fN20q2vLrr/lffvVVaofOnTEAxxApkpqfPH7csf/AgYUtWrVqohXrLjQ4OFYohSZT2B2jRg3Wiql0G1xcXB6cOnXqRUnslNzcXCcU1q5duy5u69atWyiPq8kXZGZmOuXl5Uk+5uAgz1EPtvXr1y90dnb+S1+mPMVJairqc2644YbCUpp1nV1dXR22bt2aK7+vYNGiRS6tWrUqz2WaK80PP/yQdeDAgXpdunQJf/nll2+S12PIcWblypUpXl5ereQu3q/aaiFV1DHZ97p/+eWXeZMnT26plelq/fr1cXPmzHFp0qRJgpyc2xiVpLzyyishH330UdtBgwYF/Pnnnz3xfdeb1DWVhx9+2Fv+flep0AZNmTKl5aRJk3DMqdQEwXDTpk2b37Jly5wDrq5F+VIlNyLOnDtX1L59+7wTJ04kWXtcr8jMzjbJBx7v7+8fY+1xvSI2Pj7F7cSJND9x+NAhd+2jotI9K2F65plnfOXtM0RUVFRBv379/OvUqZMpNaxQrVh3R44cSWvTpk20JPqRe/bsMaYdWnzyySfhkpBlSHJySj6bHPVToop6R5LSXDkxBmpvr+7Onj2b07lz51BJUpI2bdoUoxXr7rfffott3LhxipwvAj08PLK0Yt0tWLAgGJ/JsGHD1O6eLVu2pMjnVOldDIaSA2q/bt26ZX340Ue51k5UekR8UlLRLbfckrNz+/b03Px8q8/RI/IKCoqkBhh18uTJWFNhodXn6BHpWVn5p9zckgICAiJT0tPPMUG4pl4SprFjx3pnZmbKO6i/vLy8ovHjx3vjdUyfPt1fK9ZdZGRkfp8+fXycnZ0zP/jggxCtWHf79u1LadWqVZQkKVGDBw9GfzUThIobJ5H/0EMP+aP/3whJcoweMmSIn5wQ815//fWLWrHufHx8kKSENGrUKOnbb7+N1op19+OPP8ZJooQkJejcuXPZKNu2bVuqfE7VJ0GYOXNmvREjRiQ/MnFiZsmTlF6Bk7Ic2LO+XLs2Jy0zM8/ac/QKyZDDDh44kJAtB3trj+sRSJBOnzoVf+bMGTVJSWOCcC3o80vu2rWr/8WLF/PkLTTEc889F+Tg4GC68847DU1Sxo0bh5Ox6YknnvA3avBYWFhYfr9+/bzRkrJy5crQGTNmeMhrYoJQMehKyLntttv8MChPe4t1VSDH6IkTJ6qDEo1MUtLS0oqGDx/u6+jomLdw4ULDkhQ5Nufceuutl5CkrF+//nJLyu+//47koPokCI88/HCQZGNZcmK2erLSI157443cWbNm5UbGxCRbe1yvCA0Njd75559pqWlp2dYe1yu8vb2jTrm7x0uSUohtSRDOM0H4W2eaN28e+7///S9B3i5DfP7559ENGjRIR5ISGBhoWJLywgsvqEmKJP3eqampWqm+cnJykPBfkM/FNGXKFDVJkeSJXQwVg1F34VJLDTl16pRhTemvvfYamtJzBgwY4BsfH29IkoL9aPLkyWqScu+99/ogGTYCWlIGDRrkgyTllVdeuSpJ+eOPP6pPgiBv9i9NmzbNlSOa1ROVHrHtjz8Khw4Zkufr6xtn7XG9IjE5OX3H9u0pEZGRCdYe1ytCQkJi3d3cUpNTUzMsZekZGUwQSvcFpjitWLHCsClOx44dy2zXrl2UJClxcoAwLEn57rvvoho2bJjepUsXP0kyc7Vi3UkyEIgkZfTo0RcyMjLUsueff/60fFZMEMpvr9RSU7/55hvD+vs3b94cjwGJRicpixcvDq1du3bOwIEDL8TGxhZoxboq0ZLibTKZtEfMtm/fni6PVf0EQTL7Z1u2bJm7fccOtZZqRPgGBBS1bds299jRo0lG9vdn5eYW7N61KxE1d2uP6xUJSUnpJ48fT4uMioovXp6WkXGBCYJV+BJiHrZhTenR0dEF/fv39zE6SfHw8MA87MhmzZrF/frrr/bQkhIgLicpkiB4ymfFBKF8FqGWOn/+/CDtbdSdVNzQlB6MJOWHH34wLEnZtm1bguzbiTfffHPQcTlGasW6s7Sk4DsfFxf3l4POjh07MuRzq9oJwrRp07r27N49a+nbb+cUPxHpGSnp6UWdOnfO3rp5c7qR/f1ITI4cORItO12coUlKTk6Bx6lTSX5+ftElH2OCYFUnibyhQ4f6pMu+ZAQ0cd5zzz0YlJj/xBNPBBiVpCQkJBSifxpJytKlSw07mRw9ejRDDuARSFJKtqQwQSg3LNWbL/uXv1FN6fheWfr7FyxYYNjMCX9/f1P37t0v1a9fP/XLL7+M0Ip1t2XLlvjGjRvHSyJ+6cSJE1YPOjt37syUz63qJgiPP/6485gxYxLvHjcuw6gTIv7ugw89lLX600+zU9PTDe3vv3DhQuS+vXsTsnJzDWtJwSBNL0/PmDNnzsTgfsnHIyIjQ5ggXAWLxcRLzSbQyKb02bNnB8nB0zRkyBAfo/r70cR57733+sr7kS/fbW80gRqheEvK8uXL/5KkzJo1iwlC2WExqcy+ffv6Y9qs9hbqSuvv95PXkT9hwgS/3FxjvmZIUm6//XZfBweHPPm++WnFupOKW06XLl0uSpKS9vXXX5eapOzZsydL3jN0M1TNBOGxxx7zlQwoOzEl5S8nIr3inXffzXty2rS8sPBwQ9c7kBNv3K4dO1KTkpMv9/cbEb6+vlHuJ08mohXB2uORTBBKOtG0adPErVu3GtaU/v3330c3bNgwWQ4agXLwMCxJQc0ONbxhw4adM2rZXW16p9ov+8QTT/hYS1JeeOEFL3mcCULZBLZt2zbU1dXVmKYxsWzZslBnZ+dsrOmB5E8r1hWSlCeffPKivB/548aNu4DBr0bAzAlJUs5rScrfTl/et28fruRYNROEKU888aMcWPMu+Pr+5SSkV+zZt6+oT58+Jqm5X9XPrnckpaVl7dy5MzU0PDzW2uN6hfz9+JPHj6cmJCWVmqRIghDKBOGyd6WWmrt48eJL8tYYwtPTM7N9+/ahTZo0SUKzo1asu59++kldLKZjx44BlnnYRpgzZ46apAwfPvxCilQ8rJk1a9YZ+eyYIFzbtjp16qStWbPGsEW2du/endSiRYsYJClYcEsr1t37778fKu9Fdq9evXzCw8NxKNQdkpSpU6eq3YiSBPteqyVFEgTs41UvQZD/5D/atGmTs+mXX6zWUvWI4NDQotatW+e6HjyYbGR/P6YP7tu7N1kOqn/p79czklJSMt3d3FLCwsP/dgZHZFQUEwSzCRL5Dz/8sJGLxRQOHDjQF0mKkReHwTzszp07hzVq1Chx48aNhi0W891336ElBUlK4Pnz50tNUqTmxQTh2p6XyHvqqacMa0oPCQkx9ezZ86KcmNM/++wzw5KUPXv2pLZq1SpWzhchBw4csJ516mDFihUhzs7OWZKk+EVERFzzoCOvNVc+w6qVIEyfPr1j//79MxcuWpRV/MSjZ2RkZxfJjpe9ccOGDCP7+5GYnDhxIubY0aPx1vr79Qq8Byfd3JJ8fHyuOXOCCYKqtUTO4MGDvRMSjOlZQNO55Qp2drCinT+WeF20aJFhg8c8PDwyb7nllpDGjRsn/fzzz7FasVVz5849i88PHyRZ1U/CNGbMmAtGLbKVLcdobf0KQ5MULLLVp0+fICQpq1evNmwl0F27diXdeOON0ZKohMuJv0yDjFxdXfPk/as6CcKSJUtqTZgwIX7Y7bdnGLmE8dRp07JXLF+ek2B8f3/0vj17krJyctTDuxGBJOWMl1eUl5dXXFmSlIjIyLAaniBgsZiI9u3bBxs5D1tOxuq667fddpuvkSvaPfLII+rgMVwkpuQ8bL3g/z906NDz6Fp44403ArTiUs2ZM+ecvGYmCNbhUogZXbt29TFyka0ZM2b4y+sw3XXXXeeMTFIkScL+bfrnP/9p2DVV0JLSo0cPXFMlQ5KUMrekHDp0qGolCE9MnnymVevWOTHx8VZPPnrE6jVr8h948ME8edMNXQxJTrRJu3ftykhITDQ0SfHz81MHJWZmZ5cpSYmIiAiv4QnCgfr16yd9/fXXUfJ2GGLz5s1xWCzm5ptvRpJiXv3HAG+++WYoujf69+/vbW0eth60xWJQ08x/4IEH/MrSksIE4W/5SU01/M8//0zU3i7dffrpp+pFtbp16+ZtZJIyc+ZMy3LlRreknJfPxfT000+X65oqR44cyZefqxoJwtSpU1djpUR3Dw+rJx494tiJE0UdOnTI8/T0NHQwYFpGRs7OnTvTLhmcpERGRyecPHEiNT4hIdXa49YiIiqqJicIr2H08Lx58wxr8tQWi1HnYUuSEqkV627Lli2JWCymXbt2gW5uboaNcH/ttdeCkKQMGDDAp6zL7s6dO5cJgnU/ynuZ+c477xjWVYSBiK1bt45p3rx5uJHLla9Zsya6Xr16mUa3pEiSorZgjBkzxjcrq3wNlseOHcOl5O0/QXjqqafux9URv/7mG8Oa0iNjYtRBibt27kwysr8/x2QqOnjgQLKXl5ehl29OTU/PQXJw6dKlcr2OGpwg3CFhmjBhgrdR87AxxemOO+7wNjpJwWIxUrsLkSQl5e/mYdua1pISf/PNN19yd3cvc0vK//3f/6FGxgThatMlTJMnT/Y2ciXQvn37YpEtQ5MULFcu+1QMLk8uFbkkrVh3q1evDnNxcUlH90JwcDAOv+Vy/Phx+08Qnn322ZZDhwzJmPHcc4ZdoRGrIw4aNCjzm//+NyMjK8tk7Tl6hRzIYuQEm2DkGAy8Hx6nTiVeuHCh3Ms5R0RGRtTABKGFRLYcvM4buVjMlClTsAiR6b777jtv5GIxWNEOSYqcaI1uSQmqSEuKvG50STBBuEK9PPmQIUM8SpsaamtYv0KSb3XcwciRI88FBASoA2D1XvQrJiamoF+/fn516tQx9PLkaElp06YNLk8eu2PHjgp9KCdOnCiU97PSEwQH7fa6LVmyxNHz9OnI0LCwRifc3es5Oztrj+jr+ZkzcxrUrev4+ltvZTVt3ryxVqy7oICAuPDQUJehd9xR36VuXSetWFey3yh+58/HmPLznXr27Xujk1P5XkZsdHTkpcDAqDtGjhysFdUEoa1bt85fv359szFjxtyglenq7bffDlu+fHmLrl27Bkqtpnvbtm1133+w7/zjH/8I2LRpU0c5mAf8/vvvPYz4TmdkZChYVlpqSF1efPHFsI8++ghLXZeZ/Iz3p59+2lnuuphLarwIifz27dtnS8JVacf/8igoKHCQpKCDJMKofIQ2bdq0pUQTR0fHq16P7IMOJpOpthy3HKR27SSJaqHsg6gpq+QxJ/kdGEhcIdnZ2Y5SW+/UpEkTbzlBG3PCEpIYOcXHx7d955134ubPn3+LVlwuUhlVJOnD9RjQOvSrWlgJKm0HmTZ16rE9e/cO9PDyqiNvtlaqr/U//VTw5X/+U/jdDz8kdOrUCdPTDJEQH596ztPTqd/AgUWSpDTUinUXEhQUk5iQULd77971RG2tuMxipAoddPFi1KjRo2/Tiqq7/0ltYuTKlSuT586dW6Ev6vXavXt38pNPPmlC06skKU2NSlJWrFgRvmzZsht79OgRJLWa7pI0VfhAXFFIUqZOneq3cePGWyVJCZQkpWt5kxRJEHwkQUBSwQTBLK13796n5ISs++dpERsbm+vv799r+PDhGFOCmq8hgoKC8iRJaNurV694rUh3kuA4eHh4FI0ePbqFfM96aMXlJr9DTRDk91VqglApnpo2bVnjJk1y12/cWBSflFRq2LKp3cPTs+imm27KO3H8uKGDEtMzM027du5MCwwMNPR1RMfEJLodP54WExeXbO3xskREdHTkkUOHcD39muAliTw5OXvLf90QmOLUvXv3YHkdKQsXLowyar0DJClo7pTvk6HL7r799tu4zG4Wrg0QGRlZoe6el156CavRsYvhiuSlS5cattAWzJkz57QkBv44MRrpzjvvPCT71gVt0xBhYWEYL7drypQp1/U6Tp06VeTo6Gh/XQxr1qxpdtLNLfDosWP5SUlJDQoKCqxmpnl5eWgmtVmTlrw5ytvLliWNnzAB01UKnJycTFKMqR9QS95DB8muajsUFbnIk3EfF95RCouKahcVFjoVyX25VcuuYv65vzbxOjjgb1p+/2UZGRkN8TMNGjTAylaGMeXnO8tB3tSuQ4dWWlG5xcTERF0KCIgaMWpUdW9BaCIRL5+Z+7BhwxrJSelyM6ae5CRY5+zZs2gOXyufXUuJ1lJjrmUymWrJrZMcVB3lNl/27cu1rpycnNrYt11cXGrJfo/bfNkvsTtXmNTumkjtqnm3bt0uduzYUSvVnxz0bqxTpw66e5qMHDmygVZcLpIg+K5atQr/CbYgmCFBSP73v//dQdvW3dy5cz3Xrl3bwM3NrcvAgQO1Uv3dddddhxMSEpqdOXOmp1aku/DwcNT8d48ePfqmDRs2VPh1eHp6KoMHD86Q8699dTEcPnx4wPjx493mzJunlRjj888+czx48GB6h44dDT0QhAQHR7do1aptvXr1DGs6y8nNdYyOjAzr079/ZznZaaXlFxcTEx0UEBBZAxKECXLi/aRTp06x2rYhIiIi6srn5dKyZctkrcgQvr6+rdu2bZvaqFEjXCHOEJL4mC5dujTwrbfeSl+2bFk7rbjcFixY4Pfxxx/jZMgEwYwJgqY6JQheXl74PZlSmfinbNpPFwMShLp16+aVbJ7WO+SgmnPe4AsxYaVCdze3oKTkZKuP6xVpGRlFJ93cLmIGg7XHyxrRMTFRNaSLYULr1q09oqKi1BkERkWfPn1OjB079rS1x/QKOWij9eHQ7Nmz1SlwRsXixYtxNb2or7766m+XUr6W+fPnYzYIuxiuYBeDpjp1MUiCUCSVCwxSrNQuBsMGqpD9c8IAIgcHm3UL2SP8d40KC2uP6RXFWXtcr6gs8rtq1P5LNRO62G2xqzNBoFLl5ebWktqcIVM0iYiobLTEutIzBCYIVKqioiIHR1bAqGrjDkzVnq0aypggEFG15Vhi8R2i6ggJAroZKhsTBCIioiqMYxCIiMoJ3WTaXaJqi10MRETlZItmVyJ7gwSBLQhUk2DfxAqHXOCGrgdbEKjaY4JANU1LiSSJqeoWUdV1n8QbZYhFEkTlhpYyDlKkmqCLRH2JBAms6oflj5Ea95cgKhepVdlDC8JEieVliCUSROVmq92cCQLZm88lcM369yVwwauHJfwlTko0lSAqD3tIEL6SmFaGwDr6ROXGLgaqKZAYrJYYLYHxB/dK7JJ4RgJX6LRruPhKWlqatmWMnJwcJSkJvTPGKSwsxJVNtS3j2EkLApLb9WWInyXsWkJCAq7gq/zrX/9SJk+ejKtlKtu3b1c/b6NcunRJef/995UTJ05oJfrJzMxUtmzZoqxYsUJ9Xw4ePGjIe1GtEgQcwD75+GNl1IgRSvubb1Y63nKLMmHcOOWHdet0f3Pj4+IU7/PnFY+TJ5VTbm7KWS8vJUIO8gUF+l7xN1G+eD4XLqivw1129DOenkpYaKiSn/+XK0pXd/skPpGoI3FaorHELxIbJHC9c7v13//+V2nXrp168NQbEoLRo0crzs7OSt26dZVmzZopTk5OSo8ePZRz585pz7K9OXPmKA0aNFD/dsOGDZU6deoo9913n5KVZdiFIamS7Ny5U7n11ltxNUbl22+/VTZv3qysWrVKeeCBB5QxY8YoKSkp2jP1g+Pj1KlTlVdffVU5cOCAVqqPP//8U+nUqZPy6KOPKm+++ab6vowdOxZXVVSio6O1Z+mj2qyDkJycrNwxfLjy8oIFyhk5Gbdp21ZpKgczV8m8pj/zjDLpscd0OTkXFRUpfj4+ir+vr5Iir8mpVi3FWQ5mWZIRhgQHq4mCyaRPhTUwIEDx9fZWkuUg7ygH1jouLkq2HFDDQkKUs5Io5OXlac+sEbBPbpFoLnG3BBKGPyQwNsFuuUlyOWvWLG1LX6jV3SJJ9qFDh9QD5k033aS0b99ePWj4yv49YMAA5fjx49qzbWfkyJHK559/rtaq2sr3GgdPfJd37Nih3CwVAVQM9GYnLQho/fqmDPGFhF1CLR0nQrSOLVmyRImTihU+T3d3dwWXbD58+LDyz3/q30OCmrsRLQf4mxMnTlTPZx9++KH6PcP3D0m6h4eH8picx/RUbVoQFi1cqCYGYyTTuign4uNyYPWQk+BpKcNBbdvWrcqazz7Tnm07MZLhJcTHKy5yMu4vOziib//+ysDBg5UbGjdWE4XgwEDt2baDFgy8FtT8+smBfMCgQerruG3oUKVJ06ZKdna2ctEfXfA1BpqQPpCYLZGs3aLL4ZKEXcJJ8Y477jCstefxxx9Xm/NRc/eXfQXdHDigx8bGqidqnKRxMLOl33//XTly5Ih6kNq2bZsSERGhBMr3JzIyUqlfv77awvHss89qz9aPfeQHygiJ6WUIJBJ2Cc3nOBbNnDlTWbx4sXLjjTcqtaRSddttt6k16UaNGqmfe7Ac0/Vy8uRJZfny5World5QGUDF7YcfflAWLFigdOvWTU2Q0cqCZB0JuZ4td1qCUOk7u64JAmoWGzdsUHesdT/+qLRo0UJ7RFF69uqlfPQJWpYV5Ud5020tNiZGve3YubNSTw5gFjhRd5EPG5BA2LrLA8kBdJDaVn05wFvgPeravbv6waNlQa/WDDuBMQe/me8q4RIY3W13b0BAQIDSt29ftVkdJ2HsO0Y4duyYevvpp5+qTcAWTSXBtDS7IllAS4OtoBYFQyWxfeihh9T70LJlS2XGjBnq/T179qi3OrOHDOEdidvLEGMk7JJlH7OWaOIzRisV+Pj4qLe2hnPJU089pZ5DXnjhBa1UH6dOnVLOnj2rVgowDqM4VDiRtGBshp4VBlstCKZrghAjJ+UePXsqQ4cNU9q0aaOVXtG3Xz/1FmMAbA19pMg80VpQEspr166tdkPYunkfHyx2qkY33KCVXIEkAY9BXi4G9JM9QWKAWgL2FfTJ9tP2Xz1h/0TzPZKBSZMmaaVXdOnS5XItGq0KtrJy5UrllVdeUZt8S8J+DHqP6wFbHTjLKUgCfTzXCgxmtEtIENAahFqyNZY+d4w70cOLL76oXLx4UR33g31fT3v37lVvH34YE6z+atq0acrHH398OWnSg9aCoG1VHl2/PeiTdPfwUFwPH9ZKrnbh/Hn1trWV5KGy9ZaaH5rxkSiUhIMuaux4w3Hwt6WevXsrg4YMsdpMhgOqpd+2tkG1Uyod9mfUYjA4y4j+V0CrRVBQkJKYmKh2MZSE5l8kutBTknNbQcvBe++9pw5WKw61qA0bML5UUQdv6Y3XYqgcOE6iUmftOLVv3z61awvdDIMHD9ZKbQfdWUgMZs+erdxzzz1aqX7Oa+cpJABRUVHK66+/riZOaFGYP3++2sWnN1skB2AX6TWgKf/dd9ASpygTH31UvTVKRFiYeosxANYSCL3gdeDgjtYFo5qvqXT/+c9/lHXr1in16tXTSuyPpd8fLQl6vs61a9eqNanGjRurB1HU8iyJgp7kwMkEwYbQcoBxCYATJWbQ2BIGRz733HNqcv7uu+9qpfqytJagi7FXr17q68BgTbSyfPLJJ0pvqfQdPXpUfY5esJvborXMbhKE+S++qJx0c1M6duyovPjSS1qp/uJiY5WoyEj1zW7foYNWqj9Me0RXCz74jvJlICqvESNGqN162Jd//lnfKfao3a1fv17tK8bfX7hwoZosUPURHx+vTJgwQe26uv/++5WXX35Ze8Q2UFmaPn262lqGfctai5ke0tPNs63RWtC1a1d1PAIGcKILBklxamqqOlZDz2mf+I7ZIhc2PEHAh/76q6+qMxcwMnbz1q269WOVhBkFmDGANxoDFYsPXtRTknwBMP0SOkvNr4FB7wdVXWjqRy0G+/LXX3+t6/gItAai5WLZsmXKuHHjzN9xqV2iCdYAbEGwAcxWwOeJMTgYlPrrr7/apAZbHGYLocsMaw4Y0V1lYRm4ji4VTOHt06eP+j1DFwxmNaC7DcnTd999pz5PD7ZIDsDQBAF9/c889ZTywfvvK61bt1b27t+v9JY32whoNcBJGW90tx49lOaSrBgBsyuwJgIOqpjF0LJVK+0RomvDdwpjDVxdXdUD9saNG9Val57wd7/88kvlrbfeUnbv3q389pt5QgqaYHEi0ZOtDpw1Gdb8wEkQTexIBLFgkmUwta1gnYFFixapTfqYtYD1ByxhGaeFW2yj1cqWLC0XWOugSRNccPYK7G8YlwR6rs+g7eeVvrMbliDgQ3zw/vuV9T/9pE7NOipvZq/evbVH9XUpKEhd8wDjDXpJgtKsOdbo0R8WRrK0YPSQL4JRSQpVTVhrACs5YqoZZg5gWmHJaVhGQHMrFm+C77//Xr3Vi3yXmCFUoq1bt6qrBaKGjBP2V199pcs4LSSaaMa/cOGCOrURY1osYZk5g+mF2MYYBVvCrKHityVZyi1dEXpYu3ZtaGJiIpYrrdTFewxJENA3M/7uu5V9e/cqAwYOVFyPHFEXl9Abauk4IUdGRKiDAPv062d1uqEekKBgaWUc2JGkYIDk9XBycDAPXacaAQOnMHAL6x2gNodBU3feeaf2qO1hVDlqk6WN4LaseYJBZjpjglBJkBxgKm1ubq665gauf6BX/oXE96677rIa2O8Bt9i25WwdsHTXlTZt2PIdsDaV3xZ27dqVtHr16gb5+fkBsullLq0cuicIqOWMHT1acTtxQhk/YYJywNVVXWjDCOhSQJM+Rnf36d//qoWK9IQkBV0cOLDjdRiVpFDVhAWQ0AqHxBtNnmj67S/7kZ6wMMw333xT6shyywp7nTt3Vm/1Yut+8ZrC29tbHYCHqdc//vijMm/ePO0RfaAVCusPWItnnjEvQImpxth+7bXX1G1beeSRR9TECF0rGJBYkqUbDeNvbE2SlPwFCxakxMfHI1MbZS6tPLp/e2ZKLePc2bPK3fLmbfvjD8NGooaHhV1earm3ZIS27kMrTXRUlJqkoAUDr6OypqIVFhWpLSTXIz0tLV9+iXm0JNktDEhElx2WNA4JCSm16dOWLOsfYMGokleSRPKA5AUHVVsfvIvDyczd3R3NruZlU6nC8BniglsYtY8aMloPrIVeKykaCck4kiV0s6ALz7JCKQYvYtwNruiI96n4iqK2gC4XSY4C5D3HF36YRKWv6qdrgnD82DH1WguAg8j9996rdjWUjAfuu099jq1g8RbLWgc4aKEl4cK5c1bDlheYwQ6FcQeAmg5aEqy9BgSuDVEu15kcREVEJCQlJhblFxXpO8KNygXr0aNfFnDAaN68uZpsWgscuGwFo7eR3KL5GU2rOHA+//zz6oESV/wDXOUSI7718vrrr4fs3r27ndzFhZCognACRM0c/Pz81CsnlhZeXpXawm23cG2KUaNGqWMj0P0xaNAgdRYexkFgwP2mTZtsXul87rnnAg8fPtxV7uIYje6FSqdrgrC32Frspz08lP379lmNgza+bGdaaurlZV9xUMXVHEuLQhsuD5uRnn75GgtIRKz9fUvoua53ampqtiQISq3atcdJzVD/S/BRmeFAZIGEE/tTaYF93VawxgESlQ4dOqhJwi+//KLOZEB3B1YjxdQ0TLfUy+bNm+O++uqrJvI9d5XNt82lVFH4LMsSRkw/xIqGWKxJz241THHcv3+/OpURrWf4buHS6m+88Ybi6elp82nFK1eujPz111/byt11Ej+phTZw3SNMJIMZMH78eLf0rKxrrkkcGhqqLgB0LahN9yvnh922Vavcffv3p3fv2fOaUxBwsMwtY8sA1kIoaz8mmvS93N2DO3ft2rFRGRaFwUk/p4wH7bpSOyvraGG0Nvh5ewf06tevC2qO5ZGXl1fkffZsUlZ29gLJkLHz1QQTJOtffvr06YHI/isKrWLok2zWrJl6ACmvvn37ujVv3txZDjxlXsQdl9/FwjFlgSs7Xmt/QIvE0KFDD8+ePbu51JJ6aMXlgmZmLIeLbg8cKNF/XN6xAEuWLAlcunRpfTnJO82YMePKVd3KwNfXN/fBBx+MDQwMxH8WB1HbXnGtakmW9zX53//+t2GrwM2dO9dz7dq1Ddzc3LrgUtFGueuuuw4nJCQ0O3PmjG1HNf4NdNdIUrV79OjRN23YsKFMr2Pv3r1pTz/9dHZ0dDS6zmyaiejagoCZCpi1cK0ob3JQXqjRYPGhsoQtBzlhxoK1v2ktyj2VqAJdDEhwAnx9Y3NycnbUoOSg0mCKFWrQFUkOKgp/C3+zLFHeZLGiUJPCWAM0t2KuuC2/QyVhrMP06dNDJTnAAiK4MACTA6o2wsLC8l966aU4SQ4wWM3mK4/pmiCQfQu+eDE2LSUldsTIkeaVPoiqEHSxSHLgLzVTzHt7TEL/q+YQ2Qi6oZ9++umL3t7e7WUTMxYy1AdsiAkCqWKjo5MS4+IKM7KyrF/PlcjOLVmyJGz79u04eGJU5P/UQqJqYs6cORddXV1vlbv/J6HLaFAmCNUX5jlqd/9eZkZGXkR4eKGjyfTAvffem6YVE1UZW7duTfriiy8amEwmD9lcaC4lqh7WrFkTsWHDBqy8hFHJX6iFOmCCUI2VJT3AQMmLfn7peXl5bw8dO/a0VkxUZfj7++e9+uqrqYmJidjlx5pLiaqHo0ePpr/33ntO2dnZsbL5pLlUH0wQqimHsuUHSoCPT0x2VtahESNGrNaKiKqMjIwMjDsIDggIwMUehktU+mIxREaJiYkpnDdvXkRkZCSmxd1mLtUPE4RqqiyrKF4KDIxNTUlJHzFq1KNaEVGVgX185syZfsePH0e/LNbbtcliMURGwHR8SX59vLy8usgm1m2+eolSHTBBqKES4+NTEmJjnerWr49aF1GV8+6774Zu3rwZV3nDhfc3qIVE1cRLL70UtGvXLqyUiDE1R9VCnTFBqM5KaUXIysrKDw0OLixydHxs0KBB1165isjO7N69O3nVqlUueXl5uFbIDHMpUfXw/fffR69bt+7GoqKiP2XTvFa5AZggVFOSGljNDrDEdJC/f1JOTs6q4cOHH9KKiaoM7Qp2ifHx8XVlc4S5lKh6OH36dObixYsLMjIykmXzEXOpMZggVFMOipKvWLlWe4Cvb3RaWtrpkaNHc316qnKw5v306dN9vb290bWAK9jhao1E1UJcXFzRCy+8EBoWFtZMNrESqKGYIFRTTk5OKSWX1g0NDo5JTUnJGTlq1P1aEVGVMm/ePH9XV9fucvc5iep/bWGqMTDl/JlnnvFzd3fHuANc0jhOfcBATBCqqcKiIvl3pZchKSEhNS46upajk9MIBwcHrk9PVc6HH34Y8dNPP2E6IwYkYmAiUbWxcOHCkD179nSWu2jdtd212cuBCUJ1JdkB1qaH7Ozs/JCgoHxTYeEzw4cPj1QLiaqQffv2pX388ce1cnJyQmXzaXMpUfVw5swZl2+//baxdnnypeZS4zFBqKYkOShAgoBBiRd9fZOyc3O/GzlyJEbEElUp4eHhBS+//HJEdHR0A9nEuAOiasXX17dWenp6jtydYC6xD38dxVZOhw8fHjB+/Hi39Kys2lqRIdq2apW7b//+9O49ezbXinSHJn0vd/fgzl27dmzUGAtfGSMrM1PxOXt2b+8BA+4OCQqKTkpI8B8xevQY7WH6qwmtW7defvr06YFyqxXpr2/fvm7Nmzd33r9//wCtSHcnT55Uhg4denj27NnN16xZ00Mr1t2SJUsCly5dWv+zzz6rtXXr1vgDBw5gsRis2XFKfQJVVGKXLl0CGzZsWM7rx1eelJSUvODg4PYDBgyIls1rr+hmIxEREXm5ubnNOnXqlK4VGcHhwoULjeV1tJP7uNCYXbXwMkGoRPaUIJz39NzTrFmzwYlJSemR0dGdJ02axCVoS8cEQWNvCcKtt97qGBgY2Ey+WwukmMuBX79BEpwaal+yJfZKBKlbdqTSEoSo2FhDE4SunTvn7j9wgAmCQIJwwcvL1dHJqUtmdvbwO++8E/22VDomCBp7SxAcHR0bFhYW7pKix82PEJFeKiVBmDx5smtubq5hTVYaxy2bN0c0adIE2ZhhMjMza9WrX79I3tgCrUh3ckB1ykxPbyIvYM6oUaO2aMVUugn169f/4Pbbb8+TE5JhMzy8vLwcXFxcnLp3756vFenOZDLVkgSlTq9evXJuuukmw/ZhXKTmzJkzSJSiJND0SkQ6u+4E4eDBgy5yUO2gbZKdcHBwSBg5cmS8tkl/D61fWO/csNYnTS3t1rAEQYMFNPAajJ4OmyLxuYTuF6khIiIiIiIiIiIiIiIiIiIiIiIiIiIiIiIiIiIiIiIiIiIiIiIiIiIiIiIiIiIiIiIiIiIiIiIiIiIiIiIiohrPSbsl+1VLYo5ER4kIiRwJIiIiIqW5RKhEisR5iY8k+kk4SBAREVEN1kQCyUGhRJFEosQlicMS0yXwOBERUaXQowZ6g8Sn5rt0ndpJ3C7hrG6ZWRKGcIknJY5KEBERUQ0xUiJKwtJ6cFHikMS/JNh6QEREVAPdIZEpcUHiAwmOPyAiIqrhMIthgkRjdYuIiIiIiIiIiIiIiIiIiIiIiIiIiIiIqKritRhsB9MQ75JwkYhHARERERkDqzZ+aL5bqZ6SGGu+W2a3SGBRo6XqFhERERnGR2Kn+W6lwZUUcaLvpG6V3b0S+LlJ6hYREVEV4qjdVge44mF3Caw2WJmwimGWBC6MVB69tNvKfj1EREQ2V9USBPTr1zXf/QvLCdlbu7WmjnZbHN6D+ua7VuH3omUCF0WyprTX01MiTwLXTACMRahOCRkREZHhsMzwdxLpEjhRB0rMkLBYLREsgSb9AIlvJeAxCXcJjE34TQI/+4kEtJX4SQLXOMDPnZEYKmExQsJDIl8iWbvfVQJqS7wlES2Bn8WVFKdKFHda4pwErsD4pwT+dobEPAkiIiKqBDi5Z0t8JrFCAs39xfv3kRDgZF0gsVfiVQlYJREk8aNErkSExBMSbSSQZJgkfpB4TwJXSkyT6CABj0icksDfQQsCfi9aGtCKsUEC5cclvpKwJAq4ZgJgdgi6JfA4/qabxBcS+BtIOMo7noGIiIhKQOsBat8vq1tmLSRQq9+lbpkdkUAyUNw+CVwa+axESwmcuFH73yiBE/XdEhYdJZBEfKpumSGZKH7iByQOKPtY3TLrLIGfxe+FWyXwHMQLKNCgRQNl+B1ERER0HXDixkl1ubp1BbY/Mt9VJUn8br57maVVAeMBLHpIIOFAjb4ktBIg0bB4WwJ/+yZ1ywytCgkSJcceoBsBrRHwsAR+bqu6dQVaPFA+Rt0iIiKiCkOTfpgETqw4ATeTKAldBngc3Q8WmNWAsm3q1hVvSqB8iLp1NYxzwHgCC5zg0VJh0VoCycV/1K3SWf7GPerWFa9JoNzSjUFERETXAQMGYyRwckWXwfMSxY2TwGNT1C2z0RIoK/nc3RIoLy2KT2fEgMfiLQqWLoJ/qFul2ySB8Q311K0rkOBgLAVXsCQiIrtWVabd4STdTQKDFBtJoAb/roSFpQuh+JoDlrKj2q0FWgHQIoGBjNYC3QqALgR0bxT/nRjHAJgx8Xfwt/FzGKhYHKZM+kqg24OIiIgqCFMRR0oU7+/vLxEpgTUGMIAR/iuBbWd1ywxJBKZFlkyC/CUwZbEk/A0kHxYDJNBagJUULV6RQBkWZCqut8RECUynxCBIDFj8XqI4tBqg9QAzKoiIiOyavbcgoMvgkAQGFlp4SWCmAU7Elr58PI4ZDEgSLFBbx6JJGDNQHKYatpco2cyP8QspEpa1Dix/EzV+CyQm0FS7tUBrBsYvYGZEFwkkKiVXUMRMByyWxJUViYjI7tl7gmA5OU/Tbi0sMxEs0xpx8rWcvC0szfwl7ZHAQEdcgMkC101ASwHGJ6CFAfA7ofjvxXoI8Kh2C/hZxDoJLLpU2hLLZVnpkYiIiMoANXGclNGsjymMSyT+kEByYFkREbBCYY4E1kUYJoGuCfzMixIloVsCrQgYRIh1C7ZLWJKNGyUsVkrgd3hKFB/vcEACz0eLwVoJdCdgMGNDCVgmgZ8rPjUSFkugnDMYiIiIKgGmMP4igbUHcIINkcAJu/h4g9kSmN2AmQ5Y2vg2CYwzQLJgDboRDkqgSwDdCqj9Y/Gl4rDaIZZLRqsApidaoPUBKzviZzHGATMWMPDRAqsyHjbfvQq6MI5JYNomERERVSJrF1u6HkgyKnrCxhgITlckIiIiIiIiIiIiIiIiIiIiIiIiIiIiIiIiIiIiIiIiIiIiIiIiIiIiIiIiIiIiIiIiIiIiIiIiIiIiIiIiIiIiIiIiqvYU5f8BieYwq6vrcgAAAAAASUVORK5CYII=)\n",
        "\n",
        "*Note: This is not what actually happens under the hood. This simply communicates the concept.*"
      ],
      "metadata": {
        "id": "Ih1qeOj7KUvP"
      }
    },
    {
      "cell_type": "markdown",
      "source": [
        "Two arrays are broadcastable **if each axis/dimension satisfies one of the following conditions**\n",
        "1. Their sizes are equal\n",
        "2. One of them is 1 or missing\n",
        "\n",
        "If the above conditions are met, then the operation spits out an array with the maximum size on each dimension. Numpy will **\"stretch\"** along axes that are 1 (or missing) and perform the operation with these new arrays.\n",
        "\n",
        "To illustrate this with some examples\n",
        "```c\n",
        "# Broadcastable\n",
        "a: 256 x 256 x 3\n",
        "b:             3\n",
        "=: 256 x 256 x 3\n",
        "\n",
        "a:      6 x 30 x 1\n",
        "b: 80 x 1 x 30 x 100\n",
        "=: 80 x 6 x 30 x 100\n",
        "\n",
        "# Unbroadcastable\n",
        "a: 256 x 256 x 3\n",
        "b:             2\n",
        "// Last dimension is incompatible\n",
        "\n",
        "a:     3 x 1\n",
        "b: 8 x 5 x 2\n",
        "// 2nd-to-last dimension is incompatible\n",
        "```"
      ],
      "metadata": {
        "id": "BJqwSR2EKVxx"
      }
    },
    {
      "cell_type": "markdown",
      "source": [
        "**Note that axes begin on the right, not the left.** This is because newer axes are prepended, not appended (recall my \"layers of precision\" analogy).\n",
        "\n",
        "Here's some concrete examples"
      ],
      "metadata": {
        "id": "smIS89sISBPR"
      }
    },
    {
      "cell_type": "code",
      "source": [
        "# Example 1\n"
      ],
      "metadata": {
        "id": "22CAzVBRiUlJ"
      },
      "execution_count": null,
      "outputs": []
    },
    {
      "cell_type": "code",
      "source": [
        "# Example 2\n"
      ],
      "metadata": {
        "id": "MGy1ftz5ngnw"
      },
      "execution_count": null,
      "outputs": []
    },
    {
      "cell_type": "code",
      "source": [
        "# Example 3\n"
      ],
      "metadata": {
        "id": "ECSU5LdjrypF"
      },
      "execution_count": null,
      "outputs": []
    },
    {
      "cell_type": "markdown",
      "source": [
        "For further reading on broadcasting, visit [the Numpy docs](https://numpy.org/doc/stable/user/basics.broadcasting.html) (I stole some examples and pictures from there)."
      ],
      "metadata": {
        "id": "I9tWBRJ3qhdc"
      }
    },
    {
      "cell_type": "markdown",
      "source": [
        "# Mini-project: Composite Trapezoidal Rule"
      ],
      "metadata": {
        "id": "BSnQ0t2FGy5C"
      }
    },
    {
      "cell_type": "markdown",
      "source": [
        "Now let's put all of our Numpy knowledge to test! Here, we're going to make a mini-project that implements the **Composite Trapezoidal Rule** (CTR)."
      ],
      "metadata": {
        "id": "SiRs9GqcMDKQ"
      }
    },
    {
      "cell_type": "markdown",
      "source": [
        "## Background"
      ],
      "metadata": {
        "id": "mKvgBE-xMqsp"
      }
    },
    {
      "cell_type": "markdown",
      "source": [
        "CTR is a method for approximating integrals. It's very similar to Riemann sums, except instead of using rectangles, it uses trapezoids.\n",
        "\n",
        "<div>\n",
        "<img src=\"https://upload.wikimedia.org/wikipedia/commons/4/42/Composite_trapezoidal_rule_illustration.png\" width=\"500\"/>\n",
        "</div>\n",
        "\n",
        "*Approximating the integral of the blue curve using the red trapezoids*\n",
        "\n",
        "In order to implement this, we will require a few bits of information:\n",
        "\n",
        "1. Function being integrated $f$\n",
        "2. Start point $a$ and endpoint $b$\n",
        "3. Number of partitions (number of trapezoids to use) $N$\n",
        "\n",
        "For our example, we will be approximating $\\int_{0}^{\\pi} \\sin(x) dx$. We will use $N=10$ uniform partitions of length $h = \\frac{b - a}{N}$\n",
        "\n",
        "Also, recall that trapezoids have the following area formula\n",
        "\n",
        "$$A = \\frac{\\ell_1 + \\ell_2}{2} \\cdot b$$\n",
        "\n",
        "Where\n",
        "\n",
        "- $\\ell_1$ is the length of the left side\n",
        "- $\\ell_2$ is the length of the right side\n",
        "- $b$ is the length of the base"
      ],
      "metadata": {
        "id": "9TXHdXdeNkXr"
      }
    },
    {
      "cell_type": "markdown",
      "source": [
        "## Implementation"
      ],
      "metadata": {
        "id": "bj4iOaC_SM3N"
      }
    },
    {
      "cell_type": "markdown",
      "source": [
        "Given all of the information above, we're first going to want to create our **grid** (the points determining where the trapezoids are). Since we're using uniform partitions, `np.linspace` does exactly what we need."
      ],
      "metadata": {
        "id": "Ub_8622ZSOfS"
      }
    },
    {
      "cell_type": "code",
      "source": [
        "# define all of our constants\n"
      ],
      "metadata": {
        "id": "HEZxZzYGYiV7"
      },
      "execution_count": null,
      "outputs": []
    },
    {
      "cell_type": "markdown",
      "source": [
        "Now we have our vector of 11 points forming the bases of 10 trapezoids. For ease, I'll label these points as $x_0, x_1, \\dots, x_{10}$.\n",
        "\n",
        "Note that the side lengths for the trapezoid is really just $\\sin$ evaluated at our gridpoints. For example, the first trapezoid is given by\n",
        "\n",
        "$$\\frac{\\sin(x_0) + \\sin(x_1)}{2} \\cdot h$$\n",
        "\n",
        "For ease, I'm going to let $f_n = \\sin(x_n)$ (so $f_1 = \\sin(x_1)$). So in other words, the total area is given by\n",
        "\n",
        "$$\n",
        "\\begin{align}\n",
        "\\frac{f_0 + f_1}{2} \\cdot h + \\frac{f_1 + f_2}{2} \\cdot h + \\dots + \\frac{f_9 + f_{10}}{2} \\cdot h &= \\frac{(f_0 + f_1) + (f_1 + f_2) + \\dots + (f_9 + f_{10})}{2}\n",
        "\\cdot h \\\\\n",
        "&= \\frac{f_0 + 2f_1 + \\dots + 2f_9 + f_{10}}{2} \\cdot h \\\\\n",
        "&= \\left( \\frac{f_0}{2} + f_1 + \\dots + f_9 + \\frac{f_{10}}{2} \\right) \\cdot h\n",
        "\\end{align}\n",
        "$$\n",
        "Hence, all we need to do now is evaluate $\\sin$ on our whole grid, halve the first and last value, sum everything, then multiply it by $h$. Thankfully, Numpy provides operations to do each of these"
      ],
      "metadata": {
        "id": "fXOWDeUBahL0"
      }
    },
    {
      "cell_type": "code",
      "source": [
        "# apply above math\n"
      ],
      "metadata": {
        "id": "AFiUrcQ_gFLC"
      },
      "execution_count": null,
      "outputs": []
    },
    {
      "cell_type": "markdown",
      "source": [
        "And there we have it! Note that you can perform most mathematical operations on arrays directly, and Numpy will perform them on each element. For special functions ($\\exp, \\sin, \\log, ...$), stick with Numpy's provided functions since they're designed to work with `ndarrays` efficiently.\n",
        "\n",
        "To put this all into one customizable Python function:"
      ],
      "metadata": {
        "id": "LMlHn71XhNyv"
      }
    },
    {
      "cell_type": "code",
      "source": [
        "# Test the speed on this for very large N!\n",
        "\n",
        "def ctr(func, *, a=0, b=1, N=10):\n",
        "  pass\n",
        "\n",
        "print(ctr(np.sin, a=0, b=np.pi, N=10))"
      ],
      "metadata": {
        "id": "4rCeCtX9huUA"
      },
      "execution_count": null,
      "outputs": []
    }
  ]
}